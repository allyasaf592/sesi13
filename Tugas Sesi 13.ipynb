{
 "cells": [
  {
   "cell_type": "markdown",
   "metadata": {},
   "source": [
    "1. Kapan pengecualian bawaan berikut dimunculkan? Berikan contoh untuk mendukung jawaban Anda. (score = 70)\n",
    "* ImportError\n",
    "* IOError\n",
    "* NameError\n",
    "* ZeroDivisionError\n",
    "\n",
    "2. Jelaskan hal berikut: (score = 30)\n",
    "* Exception Handling\n",
    "* Menangkap exception\n"
   ]
  },
  {
   "cell_type": "markdown",
   "metadata": {},
   "source": [
    "# 1"
   ]
  },
  {
   "cell_type": "markdown",
   "metadata": {},
   "source": [
    "## a. ImportError\n",
    "\n",
    "`ImportError` terjadi ketika sebuah program mencoba untuk mengimport modul atau paket yang tidak ditemukan atau tidak dapat diakses. Hal ini dapat terjadi karena modul atau paket tersebut tidak ada dalam sistem, atau karena tidak ada dalam PYTHONPATH (lokasi dimana Python mencari modul dan paket) atau karena terdapat kesalahan pada nama modul atau paket yang diimport.\n",
    "Contoh: "
   ]
  },
  {
   "cell_type": "code",
   "execution_count": 5,
   "metadata": {},
   "outputs": [
    {
     "ename": "ModuleNotFoundError",
     "evalue": "No module named 'modul'",
     "output_type": "error",
     "traceback": [
      "\u001b[1;31m---------------------------------------------------------------------------\u001b[0m",
      "\u001b[1;31mModuleNotFoundError\u001b[0m                       Traceback (most recent call last)",
      "Input \u001b[1;32mIn [5]\u001b[0m, in \u001b[0;36m<cell line: 2>\u001b[1;34m()\u001b[0m\n\u001b[0;32m      1\u001b[0m \u001b[38;5;66;03m# akan error karena modul mymodule tidak ada\u001b[39;00m\n\u001b[1;32m----> 2\u001b[0m \u001b[38;5;28;01mimport\u001b[39;00m \u001b[38;5;21;01mmodul\u001b[39;00m\n",
      "\u001b[1;31mModuleNotFoundError\u001b[0m: No module named 'modul'"
     ]
    }
   ],
   "source": [
    "# akan error karena modul mymodule tidak ada\n",
    "import modul"
   ]
  },
  {
   "cell_type": "markdown",
   "metadata": {},
   "source": [
    "## b. IOError\n",
    "\n",
    "`IOError` terjadi ketika sebuah program mengalami masalah saat melakukan operasi input/output seperti membaca atau menulis file. Hal ini dapat terjadi karena file yang akan dibaca atau ditulis tidak ditemukan, tidak dapat diakses karena hak akses yang tidak cukup, atau karena masalah lainnya seperti masalah jaringan atau masalah perangkat keras. Contoh:"
   ]
  },
  {
   "cell_type": "code",
   "execution_count": 7,
   "metadata": {},
   "outputs": [
    {
     "ename": "FileNotFoundError",
     "evalue": "[Errno 2] No such file or directory: 'nofile.txt'",
     "output_type": "error",
     "traceback": [
      "\u001b[1;31m---------------------------------------------------------------------------\u001b[0m",
      "\u001b[1;31mFileNotFoundError\u001b[0m                         Traceback (most recent call last)",
      "Input \u001b[1;32mIn [7]\u001b[0m, in \u001b[0;36m<cell line: 3>\u001b[1;34m()\u001b[0m\n\u001b[0;32m      1\u001b[0m \u001b[38;5;66;03m# akan error karena file tersebut tidak ada\u001b[39;00m\n\u001b[0;32m      2\u001b[0m \u001b[38;5;66;03m# FileNotFoundError merupakan subclass dari IOError\u001b[39;00m\n\u001b[1;32m----> 3\u001b[0m file \u001b[38;5;241m=\u001b[39m \u001b[38;5;28;43mopen\u001b[39;49m\u001b[43m(\u001b[49m\u001b[38;5;124;43m'\u001b[39;49m\u001b[38;5;124;43mnofile.txt\u001b[39;49m\u001b[38;5;124;43m'\u001b[39;49m\u001b[43m,\u001b[49m\u001b[38;5;124;43m'\u001b[39;49m\u001b[38;5;124;43mr\u001b[39;49m\u001b[38;5;124;43m'\u001b[39;49m\u001b[43m)\u001b[49m\n\u001b[0;32m      4\u001b[0m file\u001b[38;5;241m.\u001b[39mwrite(\u001b[38;5;124m'\u001b[39m\u001b[38;5;124malya safira\u001b[39m\u001b[38;5;124m'\u001b[39m)\n\u001b[0;32m      5\u001b[0m \u001b[38;5;28mprint\u001b[39m(\u001b[38;5;124m'\u001b[39m\u001b[38;5;124mError\u001b[39m\u001b[38;5;124m'\u001b[39m)\n",
      "\u001b[1;31mFileNotFoundError\u001b[0m: [Errno 2] No such file or directory: 'nofile.txt'"
     ]
    }
   ],
   "source": [
    "# akan error karena file tersebut tidak ada\n",
    "# FileNotFoundError merupakan subclass dari IOError\n",
    "file = open('nofile.txt','r')\n",
    "file.write('alya safira')\n",
    "print('Error')"
   ]
  },
  {
   "cell_type": "markdown",
   "metadata": {},
   "source": [
    "## c. NameError\n",
    "\n",
    "`NameError` terjadi ketika sebuah variabel atau fungsi yang tidak didefinisikan diakses oleh program. Hal ini dapat terjadi karena kesalahan ketik atau karena sebuah variabel atau fungsi belum didefinisikan sebelum digunakan dalam program. Contoh:"
   ]
  },
  {
   "cell_type": "code",
   "execution_count": 8,
   "metadata": {},
   "outputs": [
    {
     "ename": "NameError",
     "evalue": "name 'name' is not defined",
     "output_type": "error",
     "traceback": [
      "\u001b[1;31m---------------------------------------------------------------------------\u001b[0m",
      "\u001b[1;31mNameError\u001b[0m                                 Traceback (most recent call last)",
      "Input \u001b[1;32mIn [8]\u001b[0m, in \u001b[0;36m<cell line: 3>\u001b[1;34m()\u001b[0m\n\u001b[0;32m      1\u001b[0m \u001b[38;5;66;03m# akan error karena variabel varKu tidak pernah didefinisikan\u001b[39;00m\n\u001b[0;32m      2\u001b[0m nama \u001b[38;5;241m=\u001b[39m \u001b[38;5;124m\"\u001b[39m\u001b[38;5;124mAllya\u001b[39m\u001b[38;5;124m\"\u001b[39m\n\u001b[1;32m----> 3\u001b[0m \u001b[38;5;28mprint\u001b[39m(\u001b[43mname\u001b[49m)\n",
      "\u001b[1;31mNameError\u001b[0m: name 'name' is not defined"
     ]
    }
   ],
   "source": [
    "# akan error karena variabel varKu tidak pernah didefinisikan\n",
    "nama = \"Allya\"\n",
    "print(name)"
   ]
  },
  {
   "cell_type": "markdown",
   "metadata": {},
   "source": [
    "## d. ZeroDivisionError\n",
    "\n",
    "`ZeroDivisionError` terjadi ketika sebuah bilangan dibagi dengan nol. Hal ini tidak dapat dilakukan dalam matematika, dan akan menyebabkan error dalam program. Contoh:"
   ]
  },
  {
   "cell_type": "code",
   "execution_count": 9,
   "metadata": {},
   "outputs": [
    {
     "ename": "ZeroDivisionError",
     "evalue": "division by zero",
     "output_type": "error",
     "traceback": [
      "\u001b[1;31m---------------------------------------------------------------------------\u001b[0m",
      "\u001b[1;31mZeroDivisionError\u001b[0m                         Traceback (most recent call last)",
      "Input \u001b[1;32mIn [9]\u001b[0m, in \u001b[0;36m<cell line: 5>\u001b[1;34m()\u001b[0m\n\u001b[0;32m      2\u001b[0m a \u001b[38;5;241m=\u001b[39m \u001b[38;5;241m4\u001b[39m\n\u001b[0;32m      3\u001b[0m b \u001b[38;5;241m=\u001b[39m \u001b[38;5;241m0\u001b[39m\n\u001b[1;32m----> 5\u001b[0m hasil\u001b[38;5;241m=\u001b[39m \u001b[43ma\u001b[49m\u001b[38;5;241;43m/\u001b[39;49m\u001b[43mb\u001b[49m\n\u001b[0;32m      6\u001b[0m \u001b[38;5;28mprint\u001b[39m(hasil)\n",
      "\u001b[1;31mZeroDivisionError\u001b[0m: division by zero"
     ]
    }
   ],
   "source": [
    "# akan error karena tidak bisa membagi dengan nol\n",
    "a = 4\n",
    "b = 0\n",
    "\n",
    "hasil= a/b\n",
    "print(hasil)"
   ]
  },
  {
   "cell_type": "markdown",
   "metadata": {},
   "source": [
    "Jelaskan hal berikut: (Score = 30) a. Exception Handling b. Menangkap exception\n",
    "\n",
    "2(A). Exception Handling adalah suatu proses pengolahan error yang terjadi pada suatu program. Proses ini meliputi identifikasi, penanganan, dan pemberitahuan kepada pengguna tentang error yang terjadi. Dengan menggunakan Exception Handling, program dapat terus berlanjut tanpa terhenti serta meminimalkan dampak yang terjadi akibat error.\n",
    "\n",
    "2(B). Menangkap exception merupakan salah satu proses dalam Exception Handling. Proses ini bertujuan untuk mendeteksi error yang terjadi di program dan mengeksekusi suatu prosedur tertentu untuk menangani error tersebut. Proses ini juga akan mengirimkan notifikasi kepada pengguna tentang error yang terjadi."
   ]
  },
  {
   "cell_type": "code",
   "execution_count": null,
   "metadata": {},
   "outputs": [],
   "source": []
  }
 ],
 "metadata": {
  "kernelspec": {
   "display_name": "Python 3 (ipykernel)",
   "language": "python",
   "name": "python3"
  },
  "language_info": {
   "codemirror_mode": {
    "name": "ipython",
    "version": 3
   },
   "file_extension": ".py",
   "mimetype": "text/x-python",
   "name": "python",
   "nbconvert_exporter": "python",
   "pygments_lexer": "ipython3",
   "version": "3.9.12"
  },
  "vscode": {
   "interpreter": {
    "hash": "31f2aee4e71d21fbe5cf8b01ff0e069b9275f58929596ceb00d14d90e3e16cd6"
   }
  }
 },
 "nbformat": 4,
 "nbformat_minor": 2
}
